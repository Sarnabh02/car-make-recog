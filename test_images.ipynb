{
 "cells": [
  {
   "cell_type": "code",
   "execution_count": 1,
   "id": "9d722370",
   "metadata": {},
   "outputs": [],
   "source": [
    "import os"
   ]
  },
  {
   "cell_type": "code",
   "execution_count": 4,
   "id": "63b48dc6",
   "metadata": {},
   "outputs": [],
   "source": [
    "def get_directory_names(directory):\n",
    "    # Get a list of all items in the directory\n",
    "    items = os.listdir(directory)\n",
    "    # Filter out the directories from the list and sort them alphabetically\n",
    "    directories = sorted([item for item in items if os.path.isdir(os.path.join(directory, item))])\n",
    "    return directories\n"
   ]
  },
  {
   "cell_type": "code",
   "execution_count": 5,
   "id": "1d2f5f4e",
   "metadata": {},
   "outputs": [],
   "source": [
    "directory_path = 'dataset/cars/train'\n",
    "\n",
    "car_makes = get_directory_names(directory_path)\n"
   ]
  },
  {
   "cell_type": "code",
   "execution_count": 6,
   "id": "784c07e4",
   "metadata": {},
   "outputs": [],
   "source": [
    "from keras.models import load_model\n",
    "\n",
    "model = load_model('car_make_model.h5')"
   ]
  },
  {
   "cell_type": "code",
   "execution_count": 7,
   "id": "de50d0d0",
   "metadata": {},
   "outputs": [
    {
     "name": "stdout",
     "output_type": "stream",
     "text": [
      "1/1 [==============================] - 0s 115ms/step\n",
      "[0. 0. 0. 0. 1. 0. 0. 0. 0. 0.]\n"
     ]
    },
    {
     "name": "stderr",
     "output_type": "stream",
     "text": [
      "2023-07-24 14:13:30.052610: W tensorflow/tsl/platform/profile_utils/cpu_utils.cc:128] Failed to get CPU frequency: 0 Hz\n"
     ]
    },
    {
     "data": {
      "text/plain": [
       "'Ferrari'"
      ]
     },
     "execution_count": 7,
     "metadata": {},
     "output_type": "execute_result"
    }
   ],
   "source": [
    "import numpy as np\n",
    "from tensorflow.keras.preprocessing.image import load_img, img_to_array\n",
    "from tensorflow.keras.applications.vgg16 import preprocess_input\n",
    "from tensorflow.keras.models import load_model\n",
    "import PIL.Image\n",
    "image_path = 'Test.png'\n",
    "image = load_img(image_path, target_size=(224, 224))\n",
    "img = PIL.Image.open(image_path)\n",
    "#img.show()\n",
    "image_array = img_to_array(image)\n",
    "image_array = np.expand_dims(image_array, axis=0)\n",
    "image_array = preprocess_input(image_array)\n",
    "\n",
    "\n",
    "predictions = model.predict(image_array)\n",
    "print(predictions[0])\n",
    "predicted_class = np.argmax(predictions[0])\n",
    "\n",
    "car_makes[predicted_class]"
   ]
  }
 ],
 "metadata": {
  "kernelspec": {
   "display_name": "Python 3 (ipykernel)",
   "language": "python",
   "name": "python3"
  },
  "language_info": {
   "codemirror_mode": {
    "name": "ipython",
    "version": 3
   },
   "file_extension": ".py",
   "mimetype": "text/x-python",
   "name": "python",
   "nbconvert_exporter": "python",
   "pygments_lexer": "ipython3",
   "version": "3.10.11"
  }
 },
 "nbformat": 4,
 "nbformat_minor": 5
}
