{
 "cells": [
  {
   "cell_type": "code",
   "execution_count": 14,
   "id": "17c1aa64",
   "metadata": {},
   "outputs": [],
   "source": [
    "import os\n",
    "import scipy.io as sio\n",
    "import shutil\n"
   ]
  },
  {
   "cell_type": "code",
   "execution_count": 15,
   "id": "9065b20c",
   "metadata": {},
   "outputs": [],
   "source": [
    "#Chose 10 Cool car companies to train the model on :)\n",
    "\n",
    "makes = ['BMW', 'Mercedes-Benz', 'Audi', 'Acura', 'Ferrari', 'Ford', 'Chevrolet', 'Honda', 'Toyota', 'Lamborghini']"
   ]
  },
  {
   "cell_type": "code",
   "execution_count": 16,
   "id": "2d308aff",
   "metadata": {},
   "outputs": [],
   "source": [
    "dataset_dir = 'dataset/cars'\n",
    "target_dir = 'dataset/cars/train'\n",
    "valid_dir='dataset/cars/validation'\n",
    "training_data = 'dataset/cars/cars_train/cars_train'\n",
    "final_test = 'dataset/cars/test'"
   ]
  },
  {
   "cell_type": "code",
   "execution_count": 17,
   "id": "6d19cb6e",
   "metadata": {},
   "outputs": [],
   "source": [
    "# Convert Model to just the Make\n",
    "def trm(text):\n",
    "    first_space_index = text.find(\" \")\n",
    "    if first_space_index != -1:\n",
    "        car_make = text[:first_space_index]\n",
    "    else:\n",
    "        car_make = text\n",
    "    return car_make\n",
    "\n",
    "\n",
    "\n",
    "\n",
    "# Helper function for Creating a fresh Directory \n",
    "def create_directory(directory_path):\n",
    "    if not os.path.exists(directory_path):\n",
    "        os.makedirs(directory_path)\n",
    "        \n",
    "    else:\n",
    "        shutil.rmtree(directory_path)\n",
    "        os.makedirs(directory_path)\n",
    "\n",
    "\n",
    "        \n",
    "def count_files(directory):\n",
    "    total_files = 0\n",
    "\n",
    "    for root, dirs, files in os.walk(directory):\n",
    "        total_files += len(files)\n",
    "\n",
    "    return total_files"
   ]
  },
  {
   "cell_type": "code",
   "execution_count": 18,
   "id": "8ab3e97b",
   "metadata": {},
   "outputs": [],
   "source": [
    "create_directory(target_dir)\n",
    "create_directory(valid_dir)\n"
   ]
  },
  {
   "cell_type": "code",
   "execution_count": 19,
   "id": "080c4908",
   "metadata": {},
   "outputs": [],
   "source": [
    "train_annos_file = os.path.join(dataset_dir, 'car_devkit', 'devkit', 'cars_train_annos.mat')\n",
    "test_annos_file = os.path.join(dataset_dir, 'car_devkit','devkit', 'cars_test_annos.mat')\n",
    "car_names_file = os.path.join(dataset_dir, 'car_devkit', 'devkit', 'cars_meta.mat')\n",
    "car_names = sio.loadmat(car_names_file)\n",
    "car_names = car_names['class_names'][0]\n",
    "load_file = sio.loadmat(train_annos_file)\n",
    "train_annos = load_file['annotations'][0]\n",
    "\n",
    "train_split = int(0.9 * len(train_annos))\n",
    "\n",
    "train_annos_data = train_annos[:train_split]\n",
    "valid_annos_data =  train_annos[train_split:]\n"
   ]
  },
  {
   "cell_type": "code",
   "execution_count": 20,
   "id": "f6f53c14",
   "metadata": {},
   "outputs": [],
   "source": [
    "for anno in train_annos_data:\n",
    "    image_name = anno[5][0]\n",
    "    \n",
    "    make_index = int(anno[4][0]) - 1\n",
    "    make_model = car_names[make_index]\n",
    "    make = trm(make_model[0])\n",
    "    if (make in makes):\n",
    "        make_dir = os.path.join(target_dir, str(make))  # Convert make to string\n",
    "        if not os.path.exists(make_dir):\n",
    "            os.makedirs(make_dir)\n",
    "        image_path = os.path.join(dataset_dir,'cars_train', 'cars_train', str(image_name))  # Convert image_name to string\n",
    "        shutil.copy(image_path, make_dir)  # Use shutil.move() if you want to move instead of copy\n"
   ]
  },
  {
   "cell_type": "code",
   "execution_count": 21,
   "id": "570da83a",
   "metadata": {},
   "outputs": [],
   "source": [
    "\n",
    "for anno in valid_annos_data:\n",
    "    image_name = anno[5][0]\n",
    "    \n",
    "    make_index = int(anno[4][0]) - 1\n",
    "    make_model = car_names[make_index]\n",
    "    make = trm(make_model[0])\n",
    "    if (make in makes):\n",
    "        make_dir = os.path.join(valid_dir, str(make))  # Convert make to string\n",
    "        if not os.path.exists(make_dir):\n",
    "            os.makedirs(make_dir)\n",
    "        image_path = os.path.join(dataset_dir,'cars_train', 'cars_train', str(image_name))  # Convert image_name to string\n",
    "        shutil.copy(image_path, make_dir)  # Use shutil.move() if you want to move instead of copy\n"
   ]
  },
  {
   "cell_type": "code",
   "execution_count": 23,
   "id": "c78fd59f",
   "metadata": {},
   "outputs": [
    {
     "name": "stdout",
     "output_type": "stream",
     "text": [
      "Total number of files: 3346\n"
     ]
    }
   ],
   "source": [
    "\n",
    "#Counting the total number of training data\n",
    "directory_path = 'dataset/cars/train'\n",
    "file_count = count_files(directory_path)\n",
    "print(f'Total number of files: {file_count}')"
   ]
  },
  {
   "cell_type": "code",
   "execution_count": null,
   "id": "cc414b20",
   "metadata": {},
   "outputs": [],
   "source": []
  }
 ],
 "metadata": {
  "kernelspec": {
   "display_name": "Python 3 (ipykernel)",
   "language": "python",
   "name": "python3"
  },
  "language_info": {
   "codemirror_mode": {
    "name": "ipython",
    "version": 3
   },
   "file_extension": ".py",
   "mimetype": "text/x-python",
   "name": "python",
   "nbconvert_exporter": "python",
   "pygments_lexer": "ipython3",
   "version": "3.10.11"
  }
 },
 "nbformat": 4,
 "nbformat_minor": 5
}
